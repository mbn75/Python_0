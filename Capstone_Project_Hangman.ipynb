{
  "nbformat": 4,
  "nbformat_minor": 0,
  "metadata": {
    "colab": {
      "name": "Capstone Project Hangman.ipynb",
      "provenance": [],
      "collapsed_sections": [],
      "mount_file_id": "https://github.com/mbn75/udemy_python_0_hero_capstone/blob/main/Capstone_Project_Hangman.ipynb",
      "authorship_tag": "ABX9TyN0+p8amwdA4DkkqJxqsDaB",
      "include_colab_link": true
    },
    "kernelspec": {
      "name": "python3",
      "display_name": "Python 3"
    }
  },
  "cells": [
    {
      "cell_type": "markdown",
      "metadata": {
        "id": "view-in-github",
        "colab_type": "text"
      },
      "source": [
        "<a href=\"https://colab.research.google.com/github/mbn75/udemy_python_0_hero_capstone/blob/main/Capstone_Project_Hangman.ipynb\" target=\"_parent\"><img src=\"https://colab.research.google.com/assets/colab-badge.svg\" alt=\"Open In Colab\"/></a>"
      ]
    },
    {
      "cell_type": "markdown",
      "metadata": {
        "id": "vcyRVmMI4UyI"
      },
      "source": [
        "Welcome to the development of a word guessing game... **Word of the Day Hangman**!  Avoid making six wrong guesses of either letters or words and keep your stick figure \"alive\" in order to win.  Don't let your stick figure meet a terrible fate!\r\n",
        "\r\n",
        "![image.png](data:image/png;base64,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)"
      ]
    },
    {
      "cell_type": "markdown",
      "metadata": {
        "id": "gcViQ37O5XX4"
      },
      "source": [
        "Objectives:\r\n",
        "\r\n",
        "\r\n",
        "*   Use Web scrapping to select the \"word of the day\" from an online dictionary website\r\n",
        "*   Using functions or class objects and user interface for playing the game.  Play ends when player guess the word correctly, guesses all the letters correctly or play makes six wrong guesses in the game.\r\n",
        "*   Create a graphical interface to display correct and incorrect guesses and the stick figure\r\n",
        "\r\n",
        "\r\n",
        "\r\n"
      ]
    },
    {
      "cell_type": "markdown",
      "metadata": {
        "id": "6xemWSSXvtmY"
      },
      "source": [
        "# **Library Imports**"
      ]
    },
    {
      "cell_type": "code",
      "metadata": {
        "id": "dNB5nbV78mnV"
      },
      "source": [
        "#Import libraries\r\n",
        "\r\n",
        "#web scrapping\r\n",
        "import requests, bs4, lxml\r\n",
        "\r\n",
        "#regular expressions\r\n",
        "import re\r\n",
        "\r\n",
        "#random integer\r\n",
        "import random\r\n",
        "\r\n",
        "#Import pillow and operating system libraries\r\n",
        "from PIL import Image\r\n",
        "import os\r\n",
        "\r\n",
        "#clear output\r\n",
        "from google.colab import output"
      ],
      "execution_count": 1,
      "outputs": []
    },
    {
      "cell_type": "markdown",
      "metadata": {
        "id": "0sEXUPsitma5"
      },
      "source": [
        "# **Site requests and soup making**"
      ]
    },
    {
      "cell_type": "code",
      "metadata": {
        "id": "Vnmv-In6A_Wg"
      },
      "source": [
        "#Make site requests\r\n",
        "dictionary_dot_com = requests.get('https://www.dictionary.com/e/word-of-the-day/')\r\n",
        "#merriam_webster = requests.get('https://www.merriam-webster.com/word-of-the-day')\r\n",
        "#collins = requests.get('https://www.collinsdictionary.com/dictionary/english')\r\n",
        "\r\n",
        "#Make soups\r\n",
        "dict_soup = bs4.BeautifulSoup(dictionary_dot_com.text, 'lxml') #Dictionary.com soup\r\n",
        "#m_w_soup = bs4.BeautifulSoup(merriam_webster.text, 'lxml') #Merriam-Webster.com soup\r\n",
        "#coll_soup = bs4.BeautifulSoup(collins.text, 'lxml') #CollinsDistionary.com soup"
      ],
      "execution_count": 2,
      "outputs": []
    },
    {
      "cell_type": "markdown",
      "metadata": {
        "id": "z3kMy821vd47"
      },
      "source": [
        "# **Getting word, word type, and definition from Dictionary.com soup**"
      ]
    },
    {
      "cell_type": "code",
      "metadata": {
        "id": "Sw0frNQdDXc5"
      },
      "source": [
        "#Get word.  Distionary.com word pattern is: \"Word of the Day - <the_word> | Dictionary.com\".  \r\n",
        "#This can be found in the soup using the 'title' tag at the beginning of the list object\r\n",
        "\r\n",
        "word_pattern = '([^Word of the Day - ](\\S+))' #This regular expression picks out <the_word> from the string by excluding phrase \"Word of the Day - \" using the ^ (hat) operator\r\n",
        "\r\n",
        "text = dict_soup.select('title')[0].getText()\r\n",
        "word_spelling = re.search(word_pattern, text).group()\r\n",
        "#word_spelling"
      ],
      "execution_count": 3,
      "outputs": []
    },
    {
      "cell_type": "code",
      "metadata": {
        "id": "8vZcHxrvEImF"
      },
      "source": [
        "#Get word type.  Cleaning up the string is not as critical since it will not affect game play.\r\n",
        "type_pattern = '\\S+' #straight forward regular expression.  Using \"S\" and \"+\" to get alpha no whitespace\r\n",
        "\r\n",
        "text = dict_soup.select('p')[2].getText()\r\n",
        "word_type = re.search(type_pattern, text).group()\r\n",
        "#word_type"
      ],
      "execution_count": 4,
      "outputs": []
    },
    {
      "cell_type": "code",
      "metadata": {
        "id": "1ED6TJa7Fje3"
      },
      "source": [
        "#Get definition. Cleaning up the string is not as critical since it will not affect game play.\r\n",
        "word_defition = dict_soup.select('p')[3].getText() #Just get the text without use of regular expression\r\n",
        "#word_defition"
      ],
      "execution_count": 5,
      "outputs": []
    },
    {
      "cell_type": "code",
      "metadata": {
        "colab": {
          "base_uri": "https://localhost:8080/"
        },
        "id": "-wpkqwFp7rRl",
        "outputId": "96a2c4f5-4888-4221-ab67-f3569d862b2e"
      },
      "source": [
        "#Create a dictionary for Dictionary.com word of the day\r\n",
        "dict_dict = {'spelling':word_spelling, 'type':word_type, 'definition':word_defition}\r\n",
        "dict_dict"
      ],
      "execution_count": 6,
      "outputs": [
        {
          "output_type": "execute_result",
          "data": {
            "text/plain": [
              "{'definition': 'a person of great wit or intellect.',\n",
              " 'spelling': 'bel-esprit',\n",
              " 'type': 'noun'}"
            ]
          },
          "metadata": {
            "tags": []
          },
          "execution_count": 6
        }
      ]
    },
    {
      "cell_type": "markdown",
      "metadata": {
        "id": "HvNFsjskwEaS"
      },
      "source": [
        "# **Not Used: Getting word, word type, and defintion from Merriam-Webster.com soup**"
      ]
    },
    {
      "cell_type": "code",
      "metadata": {
        "id": "_KgBfnss4Ved"
      },
      "source": [
        "#Upon further testing m_w_dictionary site is more difficult to scrape.  Will need to troubleshoot later if I still have desire."
      ],
      "execution_count": null,
      "outputs": []
    },
    {
      "cell_type": "code",
      "metadata": {
        "id": "_017DV-xwl-9"
      },
      "source": [
        "#merriam-webster.com word pattern is: \"Word of the Day: <the_word> | Merriam-Webster\".  This can be found in the soup using the 'title' tag at the beginning of the list object\r\n",
        "\r\n",
        "#word_pattern = '([^Word of the Day: ](\\S+))' #This regular expression picks out <the_word> from the string by excluding phrase \"Word of the Day: \" using the ^ (hat) operator\r\n",
        "#text = m_w_soup.select('title')[0].getText()\r\n",
        "#word = re.search(word_pattern, text).group()\r\n",
        "#word"
      ],
      "execution_count": null,
      "outputs": []
    },
    {
      "cell_type": "code",
      "metadata": {
        "id": "61B7Spspx4qY",
        "colab": {
          "base_uri": "https://localhost:8080/",
          "height": 54
        },
        "outputId": "910e2c34-73bf-4b0b-a6bb-051e59dafa8b"
      },
      "source": [
        "#Finding the word in the list\r\n",
        "\"\"\"\r\n",
        "for i in range(len(m_w_soup.select('span'))):\r\n",
        "  print(str(i) + \" \" + m_w_soup.select('span')[i].getText())\r\n",
        "\"\"\"\r\n",
        "#word_type = m_w_soup.select('span')[14].getText()\r\n",
        "#word_type"
      ],
      "execution_count": null,
      "outputs": [
        {
          "output_type": "execute_result",
          "data": {
            "application/vnd.google.colaboratory.intrinsic+json": {
              "type": "string"
            },
            "text/plain": [
              "'\\nfor i in range(len(m_w_soup.select(\\'span\\'))):\\n  print(str(i) + \" \" + m_w_soup.select(\\'span\\')[i].getText())\\n'"
            ]
          },
          "metadata": {
            "tags": []
          },
          "execution_count": 85
        }
      ]
    },
    {
      "cell_type": "code",
      "metadata": {
        "id": "QAb4h_Gl0cM0"
      },
      "source": [
        "#text = m_w_soup.select('p')[0].getText()\r\n",
        "#word_def = re.search('[^: ](\\S+)', text).group()\r\n",
        "#word_def"
      ],
      "execution_count": null,
      "outputs": []
    },
    {
      "cell_type": "code",
      "metadata": {
        "id": "IyXBwaA-EGoP"
      },
      "source": [
        "#Create a dictionary for Merriam-Webster.com word of the day\r\n",
        "#m_w_dict = {'word':word, 'type':word_type, 'definition':word_def}\r\n",
        "#m_w_dict"
      ],
      "execution_count": null,
      "outputs": []
    },
    {
      "cell_type": "markdown",
      "metadata": {
        "id": "MS7Q_Lhb-lkq"
      },
      "source": [
        "# **NOT USED: Randomly select a dictionary word of the day for use for hangman**"
      ]
    },
    {
      "cell_type": "code",
      "metadata": {
        "id": "8YA_crai-uCH",
        "colab": {
          "base_uri": "https://localhost:8080/",
          "height": 54
        },
        "outputId": "6ce8a6bd-097d-4366-ba4a-5dea0a1bb539"
      },
      "source": [
        "#Not needed.  Only using Dictionary.com scrape\r\n",
        "'''\r\n",
        "if random.randint(0,1) == 1:\r\n",
        "  hangman_dict = dict_dict\r\n",
        "else:\r\n",
        "  hangman_dict = m_w_dict\r\n",
        "#hangman_dict\r\n",
        "'''"
      ],
      "execution_count": null,
      "outputs": [
        {
          "output_type": "execute_result",
          "data": {
            "application/vnd.google.colaboratory.intrinsic+json": {
              "type": "string"
            },
            "text/plain": [
              "'\\nif random.randint(0,1) == 1:\\n  hangman_dict = dict_dict\\nelse:\\n  hangman_dict = m_w_dict\\n#hangman_dict\\n'"
            ]
          },
          "metadata": {
            "tags": []
          },
          "execution_count": 88
        }
      ]
    },
    {
      "cell_type": "markdown",
      "metadata": {
        "id": "5fs0dlG-yboK"
      },
      "source": [
        "# **Game visual display function**"
      ]
    },
    {
      "cell_type": "code",
      "metadata": {
        "id": "fuvqBkK2ETaM"
      },
      "source": [
        "#Game play display function\r\n",
        "def hangman_display(num=0):\r\n",
        "  '''\r\n",
        "  The hangman display function accepts one arguement, integer in the range [0:6]\r\n",
        "  If values in range then uses if-then logic to display hangman\r\n",
        "  If argument not in range then prints a statement about error\r\n",
        "  '''\r\n",
        "  #make sure the current working directory is set\r\n",
        "  os.chdir('/content/drive/MyDrive/Colab Notebooks/udemy_python_0_hero_capstone')\r\n",
        "  #print(os.getcwd())\r\n",
        "  output.clear()\r\n",
        "  try:\r\n",
        "    if num == 0:\r\n",
        "      print('No wrong guesses')\r\n",
        "      hangman_pic = Image.open('0_zero.PNG') #Mounted Google Drive to colab notebook\r\n",
        "    elif num == 1:\r\n",
        "      print('One wrong guess')\r\n",
        "      hangman_pic = Image.open('1_one.PNG')\r\n",
        "    elif num == 2:\r\n",
        "      print('Two wrong guesses')\r\n",
        "      hangman_pic = Image.open('2_two.PNG')\r\n",
        "    elif num == 3:\r\n",
        "      print('Three wrong guesses')\r\n",
        "      hangman_pic = Image.open('3_three.PNG')\r\n",
        "    elif num == 4:\r\n",
        "      print('Four wrong guesses')\r\n",
        "      hangman_pic = Image.open('4_four.PNG')\r\n",
        "    elif num == 5:\r\n",
        "      print('Five wrong guesses')\r\n",
        "      hangman_pic = Image.open('5_five.PNG')\r\n",
        "    elif num == 6:\r\n",
        "      print('Six wrong guesses. Game Over!')\r\n",
        "      hangman_pic = Image.open('6_six.PNG')\r\n",
        "    else:\r\n",
        "      pass\r\n",
        "    return hangman_pic\r\n",
        "  except:\r\n",
        "    print('Error! This function only accepts integer values in the range [0:6].')"
      ],
      "execution_count": 7,
      "outputs": []
    },
    {
      "cell_type": "code",
      "metadata": {
        "colab": {
          "base_uri": "https://localhost:8080/",
          "height": 405
        },
        "id": "v-Zq2BiByUyQ",
        "outputId": "a619ff30-0746-4df3-819b-c1d074b9feb3"
      },
      "source": [
        "#Game display function testing\r\n",
        "hangman_display(3)"
      ],
      "execution_count": 8,
      "outputs": [
        {
          "output_type": "stream",
          "text": [
            "Three wrong guesses\n"
          ],
          "name": "stdout"
        },
        {
          "output_type": "execute_result",
          "data": {
            "image/png": "[encoded data removed]",
            "text/plain": [
              "<PIL.PngImagePlugin.PngImageFile image mode=RGBA size=349x369 at 0x7F88084C35F8>"
            ]
          },
          "metadata": {
            "tags": []
          },
          "execution_count": 8
        }
      ]
    },
    {
      "cell_type": "markdown",
      "metadata": {
        "id": "x-ygrE-L6TwO"
      },
      "source": [
        "# **Hangman word class**"
      ]
    },
    {
      "cell_type": "code",
      "metadata": {
        "id": "8Q6nmw8byXNu"
      },
      "source": [
        "class HangmanWord():\r\n",
        "  '''\r\n",
        "  HangmanWord class \r\n",
        "  - attributes: spelling, word_type, definition all of string type\r\n",
        "  - methods: self, guess\r\n",
        "\r\n",
        "  '''\r\n",
        "  \r\n",
        "  def __init__(self, spelling='', word_type='', definition=''):\r\n",
        "\r\n",
        "    #Class Attributes\r\n",
        "    self.spelling = spelling\r\n",
        "    self.word_type = word_type\r\n",
        "    self.definition = definition\r\n",
        "    self.word_list = [char for char in spelling]\r\n",
        "    self.guessing_list = [' ']*len(self.spelling)\r\n",
        "\r\n",
        "  #Self.print method\r\n",
        "  def __str__(self):\r\n",
        "    return f\"The Word of the Day is: '{self.spelling}'\\nIt is a {self.word_type}.\\nThe definition is: '{self.definition}''\"\r\n",
        "\r\n",
        "  #self.lenth method\r\n",
        "  def __len__(self):\r\n",
        "    return len(self.spelling)\r\n",
        "\r\n",
        "  #Guessing method\r\n",
        "  def guess(self,letter=''):\r\n",
        "    try:\r\n",
        "      if len(letter) == 1 or len(letter) == len(self.spelling): #Only accepts single or full word guesses\r\n",
        "        start = 0 #Starting position for index loop.  Needed to find all instances of a repeated letter\r\n",
        "        for char in self.word_list:\r\n",
        "          if letter == char:\r\n",
        "            self.guessing_list[self.word_list.index(char, start)] = letter\r\n",
        "          else:\r\n",
        "            pass\r\n",
        "          start = start + 1\r\n",
        "\r\n",
        "        return letter.lower() in self.spelling.lower()\r\n",
        "      else:\r\n",
        "        return 'Single letter or whole word guessess only. Partial word guesses not allowed.'\r\n",
        "    except:\r\n",
        "      return 'This method only accepts string arguements.  Please enter your argument as a string.'"
      ],
      "execution_count": 132,
      "outputs": []
    },
    {
      "cell_type": "code",
      "metadata": {
        "id": "HIRnivaJdtWP"
      },
      "source": [
        "game_word = HangmanWord(spelling=dict_dict['spelling']\r\n",
        "                        ,word_type=dict_dict['type']\r\n",
        "                        ,definition=dict_dict['definition'])"
      ],
      "execution_count": 110,
      "outputs": []
    },
    {
      "cell_type": "code",
      "metadata": {
        "id": "1l_AHoU5Me4Z"
      },
      "source": [
        "game_word = HangmanWord(spelling='Mississippi'\r\n",
        "                        ,word_type='noun'\r\n",
        "                        ,definition='name of state')"
      ],
      "execution_count": 133,
      "outputs": []
    },
    {
      "cell_type": "code",
      "metadata": {
        "id": "0WvX8_Fn-s3Y",
        "outputId": "b8f71ce9-4796-4877-f55c-fc5980aeedc3",
        "colab": {
          "base_uri": "https://localhost:8080/"
        }
      },
      "source": [
        "game_word.guessing_list"
      ],
      "execution_count": 137,
      "outputs": [
        {
          "output_type": "execute_result",
          "data": {
            "text/plain": [
              "[' ', 'i', ' ', ' ', 'i', ' ', ' ', 'i', ' ', ' ', 'i']"
            ]
          },
          "metadata": {
            "tags": []
          },
          "execution_count": 137
        }
      ]
    },
    {
      "cell_type": "code",
      "metadata": {
        "id": "sPcMEHPUJUzC",
        "outputId": "ad8b7bb7-349d-41f9-ee45-30afb19d647a",
        "colab": {
          "base_uri": "https://localhost:8080/"
        }
      },
      "source": [
        "game_word.word_list"
      ],
      "execution_count": 135,
      "outputs": [
        {
          "output_type": "execute_result",
          "data": {
            "text/plain": [
              "['M', 'i', 's', 's', 'i', 's', 's', 'i', 'p', 'p', 'i']"
            ]
          },
          "metadata": {
            "tags": []
          },
          "execution_count": 135
        }
      ]
    },
    {
      "cell_type": "code",
      "metadata": {
        "id": "V7LazSg0AdYS",
        "outputId": "2fda4a88-104e-47cf-ae6f-36d20388e322",
        "colab": {
          "base_uri": "https://localhost:8080/"
        }
      },
      "source": [
        "game_word.guessing_list == game_word.word_list"
      ],
      "execution_count": 121,
      "outputs": [
        {
          "output_type": "execute_result",
          "data": {
            "text/plain": [
              "False"
            ]
          },
          "metadata": {
            "tags": []
          },
          "execution_count": 121
        }
      ]
    },
    {
      "cell_type": "code",
      "metadata": {
        "id": "6ct-CgUPBOHL",
        "outputId": "d85ff0c9-3ab9-4ed6-d380-af10d15a8c56",
        "colab": {
          "base_uri": "https://localhost:8080/"
        }
      },
      "source": [
        "game_word.word_list.count('s')"
      ],
      "execution_count": 123,
      "outputs": [
        {
          "output_type": "execute_result",
          "data": {
            "text/plain": [
              "4"
            ]
          },
          "metadata": {
            "tags": []
          },
          "execution_count": 123
        }
      ]
    },
    {
      "cell_type": "code",
      "metadata": {
        "id": "S-8FNmzxHcJQ",
        "outputId": "cbe52b31-31eb-4a69-c6fb-b2fb02d61ca3",
        "colab": {
          "base_uri": "https://localhost:8080/"
        }
      },
      "source": [
        "game_word.guess(input('make a guess: '))"
      ],
      "execution_count": 136,
      "outputs": [
        {
          "output_type": "stream",
          "text": [
            "make a guess: i\n"
          ],
          "name": "stdout"
        },
        {
          "output_type": "execute_result",
          "data": {
            "text/plain": [
              "True"
            ]
          },
          "metadata": {
            "tags": []
          },
          "execution_count": 136
        }
      ]
    },
    {
      "cell_type": "markdown",
      "metadata": {
        "id": "oKHOk35MW1B9"
      },
      "source": [
        "# **Game Play Logic**"
      ]
    },
    {
      "cell_type": "code",
      "metadata": {
        "id": "SLKEetlv8-WO"
      },
      "source": [
        "# Start the game\r\n",
        "  # Welcome\r\n",
        "  #Display screen\r\n",
        "  #show how many letters need to be guessed\r\n",
        "  #pre-populate non alpha characters like \"-\"\r\n",
        "\r\n",
        "# loop Take input of letter/word guess\r\n",
        "  #Did the player loose with too many wrong guesses\r\n",
        "    #If incorrect guess and wrong guess less than 6 then update screen, add to wrong guess count and display wrong guess list\r\n",
        "    #Did play guess word?"
      ],
      "execution_count": null,
      "outputs": []
    },
    {
      "cell_type": "code",
      "metadata": {
        "colab": {
          "base_uri": "https://localhost:8080/"
        },
        "id": "OaKVG9hzI01O",
        "outputId": "e5af9401-818c-4f3d-be29-258a940d89bc"
      },
      "source": [
        "print(ord('a'))\r\n",
        "print(ord('z'))\r\n",
        "\r\n",
        "alphabet = set()\r\n",
        "for letter in range(ord('a'),ord('z')+1):\r\n",
        "  alphabet.add(chr(letter))\r\n",
        "print(alphabet)\r\n",
        "\r\n",
        "print('y' in guess_list)\r\n",
        "print('y' in alphabet)\r\n"
      ],
      "execution_count": null,
      "outputs": [
        {
          "output_type": "stream",
          "text": [
            "97\n",
            "122\n",
            "{'y', 'a', 'v', 'k', 'q', 'e', 'b', 'l', 'o', 's', 'f', 'm', 't', 'n', 'x', 'g', 'i', 'w', 'u', 'c', 'z', 'h', 'r', 'd', 'p', 'j'}\n",
            "False\n",
            "True\n"
          ],
          "name": "stdout"
        }
      ]
    },
    {
      "cell_type": "code",
      "metadata": {
        "colab": {
          "base_uri": "https://localhost:8080/"
        },
        "id": "tJBfe6gqGecx",
        "outputId": "538a9559-61c2-4627-ed7a-a54681644afe"
      },
      "source": [
        "alphabet.discard('y') #remove a letter from alphabet set\r\n",
        "print('y' in guess_list)\r\n",
        "print('y' in alphabet)"
      ],
      "execution_count": null,
      "outputs": [
        {
          "output_type": "stream",
          "text": [
            "False\n",
            "False\n"
          ],
          "name": "stdout"
        }
      ]
    }
  ]
}