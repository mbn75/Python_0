{
  "nbformat": 4,
  "nbformat_minor": 0,
  "metadata": {
    "colab": {
      "name": "Capstone Project Hangman.ipynb",
      "provenance": [],
      "collapsed_sections": [],
      "mount_file_id": "https://github.com/mbn75/udemy_python_0_hero_capstone/blob/main/Capstone_Project_Hangman.ipynb",
      "authorship_tag": "ABX9TyPoU2s8pAIKVGkW+CXzn2o1",
      "include_colab_link": true
    },
    "kernelspec": {
      "name": "python3",
      "display_name": "Python 3"
    },
    "widgets": {
      "application/vnd.jupyter.widget-state+json": {
        "b3cfd10352114331b78d460f0fd6d9f0": {
          "model_module": "@jupyter-widgets/controls",
          "model_name": "VBoxModel",
          "state": {
            "_view_name": "VBoxView",
            "_dom_classes": [
              "widget-interact"
            ],
            "_model_name": "VBoxModel",
            "_view_module": "@jupyter-widgets/controls",
            "_model_module_version": "1.5.0",
            "_view_count": null,
            "_view_module_version": "1.5.0",
            "box_style": "",
            "layout": "IPY_MODEL_84916dc4e72f4259a15e481718f248f8",
            "_model_module": "@jupyter-widgets/controls",
            "children": [
              "IPY_MODEL_7bdb88761265435db7f260874e98b198",
              "IPY_MODEL_cb405cab39aa4b76b0146532e0bdf323"
            ]
          }
        },
        "84916dc4e72f4259a15e481718f248f8": {
          "model_module": "@jupyter-widgets/base",
          "model_name": "LayoutModel",
          "state": {
            "_view_name": "LayoutView",
            "grid_template_rows": null,
            "right": null,
            "justify_content": null,
            "_view_module": "@jupyter-widgets/base",
            "overflow": null,
            "_model_module_version": "1.2.0",
            "_view_count": null,
            "flex_flow": null,
            "width": null,
            "min_width": null,
            "border": null,
            "align_items": null,
            "bottom": null,
            "_model_module": "@jupyter-widgets/base",
            "top": null,
            "grid_column": null,
            "overflow_y": null,
            "overflow_x": null,
            "grid_auto_flow": null,
            "grid_area": null,
            "grid_template_columns": null,
            "flex": null,
            "_model_name": "LayoutModel",
            "justify_items": null,
            "grid_row": null,
            "max_height": null,
            "align_content": null,
            "visibility": null,
            "align_self": null,
            "height": null,
            "min_height": null,
            "padding": null,
            "grid_auto_rows": null,
            "grid_gap": null,
            "max_width": null,
            "order": null,
            "_view_module_version": "1.2.0",
            "grid_template_areas": null,
            "object_position": null,
            "object_fit": null,
            "grid_auto_columns": null,
            "margin": null,
            "display": null,
            "left": null
          }
        },
        "7bdb88761265435db7f260874e98b198": {
          "model_module": "@jupyter-widgets/controls",
          "model_name": "TextModel",
          "state": {
            "_view_name": "TextView",
            "style": "IPY_MODEL_5ebe41b982a742c68c85246d949f44c4",
            "_dom_classes": [],
            "description": "x",
            "_model_name": "TextModel",
            "placeholder": "​",
            "_view_module": "@jupyter-widgets/controls",
            "_model_module_version": "1.5.0",
            "value": "",
            "_view_count": null,
            "disabled": false,
            "_view_module_version": "1.5.0",
            "continuous_update": true,
            "description_tooltip": null,
            "_model_module": "@jupyter-widgets/controls",
            "layout": "IPY_MODEL_f32153e25338412fad560757e0380a57"
          }
        },
        "cb405cab39aa4b76b0146532e0bdf323": {
          "model_module": "@jupyter-widgets/output",
          "model_name": "OutputModel",
          "state": {
            "_view_name": "OutputView",
            "msg_id": "",
            "_dom_classes": [],
            "_model_name": "OutputModel",
            "outputs": [
              {
                "output_type": "display_data",
                "metadata": {
                  "tags": []
                },
                "application/vnd.google.colaboratory.intrinsic+json": {
                  "type": "string"
                },
                "text/plain": "''"
              }
            ],
            "_view_module": "@jupyter-widgets/output",
            "_model_module_version": "1.0.0",
            "_view_count": null,
            "_view_module_version": "1.0.0",
            "layout": "IPY_MODEL_316c30c72edf423a9d234fc11cd83cd4",
            "_model_module": "@jupyter-widgets/output"
          }
        },
        "5ebe41b982a742c68c85246d949f44c4": {
          "model_module": "@jupyter-widgets/controls",
          "model_name": "DescriptionStyleModel",
          "state": {
            "_view_name": "StyleView",
            "_model_name": "DescriptionStyleModel",
            "description_width": "",
            "_view_module": "@jupyter-widgets/base",
            "_model_module_version": "1.5.0",
            "_view_count": null,
            "_view_module_version": "1.2.0",
            "_model_module": "@jupyter-widgets/controls"
          }
        },
        "f32153e25338412fad560757e0380a57": {
          "model_module": "@jupyter-widgets/base",
          "model_name": "LayoutModel",
          "state": {
            "_view_name": "LayoutView",
            "grid_template_rows": null,
            "right": null,
            "justify_content": null,
            "_view_module": "@jupyter-widgets/base",
            "overflow": null,
            "_model_module_version": "1.2.0",
            "_view_count": null,
            "flex_flow": null,
            "width": null,
            "min_width": null,
            "border": null,
            "align_items": null,
            "bottom": null,
            "_model_module": "@jupyter-widgets/base",
            "top": null,
            "grid_column": null,
            "overflow_y": null,
            "overflow_x": null,
            "grid_auto_flow": null,
            "grid_area": null,
            "grid_template_columns": null,
            "flex": null,
            "_model_name": "LayoutModel",
            "justify_items": null,
            "grid_row": null,
            "max_height": null,
            "align_content": null,
            "visibility": null,
            "align_self": null,
            "height": null,
            "min_height": null,
            "padding": null,
            "grid_auto_rows": null,
            "grid_gap": null,
            "max_width": null,
            "order": null,
            "_view_module_version": "1.2.0",
            "grid_template_areas": null,
            "object_position": null,
            "object_fit": null,
            "grid_auto_columns": null,
            "margin": null,
            "display": null,
            "left": null
          }
        },
        "316c30c72edf423a9d234fc11cd83cd4": {
          "model_module": "@jupyter-widgets/base",
          "model_name": "LayoutModel",
          "state": {
            "_view_name": "LayoutView",
            "grid_template_rows": null,
            "right": null,
            "justify_content": null,
            "_view_module": "@jupyter-widgets/base",
            "overflow": null,
            "_model_module_version": "1.2.0",
            "_view_count": null,
            "flex_flow": null,
            "width": null,
            "min_width": null,
            "border": null,
            "align_items": null,
            "bottom": null,
            "_model_module": "@jupyter-widgets/base",
            "top": null,
            "grid_column": null,
            "overflow_y": null,
            "overflow_x": null,
            "grid_auto_flow": null,
            "grid_area": null,
            "grid_template_columns": null,
            "flex": null,
            "_model_name": "LayoutModel",
            "justify_items": null,
            "grid_row": null,
            "max_height": null,
            "align_content": null,
            "visibility": null,
            "align_self": null,
            "height": null,
            "min_height": null,
            "padding": null,
            "grid_auto_rows": null,
            "grid_gap": null,
            "max_width": null,
            "order": null,
            "_view_module_version": "1.2.0",
            "grid_template_areas": null,
            "object_position": null,
            "object_fit": null,
            "grid_auto_columns": null,
            "margin": null,
            "display": null,
            "left": null
          }
        },
        "c31703a330cf48bf89714b1d2d4fd8c7": {
          "model_module": "@jupyter-widgets/controls",
          "model_name": "VBoxModel",
          "state": {
            "_view_name": "VBoxView",
            "_dom_classes": [
              "widget-interact"
            ],
            "_model_name": "VBoxModel",
            "_view_module": "@jupyter-widgets/controls",
            "_model_module_version": "1.5.0",
            "_view_count": null,
            "_view_module_version": "1.5.0",
            "box_style": "",
            "layout": "IPY_MODEL_ce2f5143d6794a4892aad5e177908365",
            "_model_module": "@jupyter-widgets/controls",
            "children": [
              "IPY_MODEL_15ad178cec7e4f4da47ef58cc98fcf51",
              "IPY_MODEL_c63f0548544a4a12bb7585b4def1adbe"
            ]
          }
        },
        "ce2f5143d6794a4892aad5e177908365": {
          "model_module": "@jupyter-widgets/base",
          "model_name": "LayoutModel",
          "state": {
            "_view_name": "LayoutView",
            "grid_template_rows": null,
            "right": null,
            "justify_content": null,
            "_view_module": "@jupyter-widgets/base",
            "overflow": null,
            "_model_module_version": "1.2.0",
            "_view_count": null,
            "flex_flow": null,
            "width": null,
            "min_width": null,
            "border": null,
            "align_items": null,
            "bottom": null,
            "_model_module": "@jupyter-widgets/base",
            "top": null,
            "grid_column": null,
            "overflow_y": null,
            "overflow_x": null,
            "grid_auto_flow": null,
            "grid_area": null,
            "grid_template_columns": null,
            "flex": null,
            "_model_name": "LayoutModel",
            "justify_items": null,
            "grid_row": null,
            "max_height": null,
            "align_content": null,
            "visibility": null,
            "align_self": null,
            "height": null,
            "min_height": null,
            "padding": null,
            "grid_auto_rows": null,
            "grid_gap": null,
            "max_width": null,
            "order": null,
            "_view_module_version": "1.2.0",
            "grid_template_areas": null,
            "object_position": null,
            "object_fit": null,
            "grid_auto_columns": null,
            "margin": null,
            "display": null,
            "left": null
          }
        },
        "15ad178cec7e4f4da47ef58cc98fcf51": {
          "model_module": "@jupyter-widgets/controls",
          "model_name": "CheckboxModel",
          "state": {
            "_view_name": "CheckboxView",
            "style": "IPY_MODEL_b1dfcf1a05374813afbfbd250bc07670",
            "_dom_classes": [],
            "description": "x",
            "_model_name": "CheckboxModel",
            "_view_module": "@jupyter-widgets/controls",
            "_model_module_version": "1.5.0",
            "value": true,
            "_view_count": null,
            "disabled": false,
            "_view_module_version": "1.5.0",
            "indent": true,
            "description_tooltip": null,
            "_model_module": "@jupyter-widgets/controls",
            "layout": "IPY_MODEL_7a5ffff633714773a0f39bd7ce8dd9a4"
          }
        },
        "c63f0548544a4a12bb7585b4def1adbe": {
          "model_module": "@jupyter-widgets/output",
          "model_name": "OutputModel",
          "state": {
            "_view_name": "OutputView",
            "msg_id": "",
            "_dom_classes": [],
            "_model_name": "OutputModel",
            "outputs": [
              {
                "output_type": "display_data",
                "metadata": {
                  "tags": []
                },
                "text/plain": "(True, 10)"
              }
            ],
            "_view_module": "@jupyter-widgets/output",
            "_model_module_version": "1.0.0",
            "_view_count": null,
            "_view_module_version": "1.0.0",
            "layout": "IPY_MODEL_4d971d93153f404a82e61e3af1a1f493",
            "_model_module": "@jupyter-widgets/output"
          }
        },
        "b1dfcf1a05374813afbfbd250bc07670": {
          "model_module": "@jupyter-widgets/controls",
          "model_name": "DescriptionStyleModel",
          "state": {
            "_view_name": "StyleView",
            "_model_name": "DescriptionStyleModel",
            "description_width": "",
            "_view_module": "@jupyter-widgets/base",
            "_model_module_version": "1.5.0",
            "_view_count": null,
            "_view_module_version": "1.2.0",
            "_model_module": "@jupyter-widgets/controls"
          }
        },
        "7a5ffff633714773a0f39bd7ce8dd9a4": {
          "model_module": "@jupyter-widgets/base",
          "model_name": "LayoutModel",
          "state": {
            "_view_name": "LayoutView",
            "grid_template_rows": null,
            "right": null,
            "justify_content": null,
            "_view_module": "@jupyter-widgets/base",
            "overflow": null,
            "_model_module_version": "1.2.0",
            "_view_count": null,
            "flex_flow": null,
            "width": null,
            "min_width": null,
            "border": null,
            "align_items": null,
            "bottom": null,
            "_model_module": "@jupyter-widgets/base",
            "top": null,
            "grid_column": null,
            "overflow_y": null,
            "overflow_x": null,
            "grid_auto_flow": null,
            "grid_area": null,
            "grid_template_columns": null,
            "flex": null,
            "_model_name": "LayoutModel",
            "justify_items": null,
            "grid_row": null,
            "max_height": null,
            "align_content": null,
            "visibility": null,
            "align_self": null,
            "height": null,
            "min_height": null,
            "padding": null,
            "grid_auto_rows": null,
            "grid_gap": null,
            "max_width": null,
            "order": null,
            "_view_module_version": "1.2.0",
            "grid_template_areas": null,
            "object_position": null,
            "object_fit": null,
            "grid_auto_columns": null,
            "margin": null,
            "display": null,
            "left": null
          }
        },
        "4d971d93153f404a82e61e3af1a1f493": {
          "model_module": "@jupyter-widgets/base",
          "model_name": "LayoutModel",
          "state": {
            "_view_name": "LayoutView",
            "grid_template_rows": null,
            "right": null,
            "justify_content": null,
            "_view_module": "@jupyter-widgets/base",
            "overflow": null,
            "_model_module_version": "1.2.0",
            "_view_count": null,
            "flex_flow": null,
            "width": null,
            "min_width": null,
            "border": null,
            "align_items": null,
            "bottom": null,
            "_model_module": "@jupyter-widgets/base",
            "top": null,
            "grid_column": null,
            "overflow_y": null,
            "overflow_x": null,
            "grid_auto_flow": null,
            "grid_area": null,
            "grid_template_columns": null,
            "flex": null,
            "_model_name": "LayoutModel",
            "justify_items": null,
            "grid_row": null,
            "max_height": null,
            "align_content": null,
            "visibility": null,
            "align_self": null,
            "height": null,
            "min_height": null,
            "padding": null,
            "grid_auto_rows": null,
            "grid_gap": null,
            "max_width": null,
            "order": null,
            "_view_module_version": "1.2.0",
            "grid_template_areas": null,
            "object_position": null,
            "object_fit": null,
            "grid_auto_columns": null,
            "margin": null,
            "display": null,
            "left": null
          }
        },
        "2673bedc77d54fdcb8f2bf5e1990582c": {
          "model_module": "@jupyter-widgets/controls",
          "model_name": "VBoxModel",
          "state": {
            "_view_name": "VBoxView",
            "_dom_classes": [
              "widget-interact"
            ],
            "_model_name": "VBoxModel",
            "_view_module": "@jupyter-widgets/controls",
            "_model_module_version": "1.5.0",
            "_view_count": null,
            "_view_module_version": "1.5.0",
            "box_style": "",
            "layout": "IPY_MODEL_1a5144cc3a784b0988bf2db4383290cf",
            "_model_module": "@jupyter-widgets/controls",
            "children": [
              "IPY_MODEL_010da587824140b88769f652fdcb439f",
              "IPY_MODEL_cef305ee75734bbd9c9fee0933703870",
              "IPY_MODEL_720f8fe3f6414089b01e50a8b2740457"
            ]
          }
        },
        "1a5144cc3a784b0988bf2db4383290cf": {
          "model_module": "@jupyter-widgets/base",
          "model_name": "LayoutModel",
          "state": {
            "_view_name": "LayoutView",
            "grid_template_rows": null,
            "right": null,
            "justify_content": null,
            "_view_module": "@jupyter-widgets/base",
            "overflow": null,
            "_model_module_version": "1.2.0",
            "_view_count": null,
            "flex_flow": null,
            "width": null,
            "min_width": null,
            "border": null,
            "align_items": null,
            "bottom": null,
            "_model_module": "@jupyter-widgets/base",
            "top": null,
            "grid_column": null,
            "overflow_y": null,
            "overflow_x": null,
            "grid_auto_flow": null,
            "grid_area": null,
            "grid_template_columns": null,
            "flex": null,
            "_model_name": "LayoutModel",
            "justify_items": null,
            "grid_row": null,
            "max_height": null,
            "align_content": null,
            "visibility": null,
            "align_self": null,
            "height": null,
            "min_height": null,
            "padding": null,
            "grid_auto_rows": null,
            "grid_gap": null,
            "max_width": null,
            "order": null,
            "_view_module_version": "1.2.0",
            "grid_template_areas": null,
            "object_position": null,
            "object_fit": null,
            "grid_auto_columns": null,
            "margin": null,
            "display": null,
            "left": null
          }
        },
        "010da587824140b88769f652fdcb439f": {
          "model_module": "@jupyter-widgets/controls",
          "model_name": "IntSliderModel",
          "state": {
            "_view_name": "IntSliderView",
            "style": "IPY_MODEL_235e33b5acbc4f85bd6cfe69e0269a67",
            "_dom_classes": [],
            "description": "a",
            "step": 1,
            "_model_name": "IntSliderModel",
            "orientation": "horizontal",
            "max": 30,
            "_view_module": "@jupyter-widgets/controls",
            "_model_module_version": "1.5.0",
            "value": 15,
            "_view_count": null,
            "disabled": false,
            "_view_module_version": "1.5.0",
            "min": -10,
            "continuous_update": true,
            "readout_format": "d",
            "description_tooltip": null,
            "readout": true,
            "_model_module": "@jupyter-widgets/controls",
            "layout": "IPY_MODEL_2f89f2422902494aafe0722b52f4b6a1"
          }
        },
        "cef305ee75734bbd9c9fee0933703870": {
          "model_module": "@jupyter-widgets/controls",
          "model_name": "IntSliderModel",
          "state": {
            "_view_name": "IntSliderView",
            "style": "IPY_MODEL_6902416220fa4ee58429bbea52953e9a",
            "_dom_classes": [],
            "description": "b",
            "step": 1,
            "_model_name": "IntSliderModel",
            "orientation": "horizontal",
            "max": 60,
            "_view_module": "@jupyter-widgets/controls",
            "_model_module_version": "1.5.0",
            "value": 21,
            "_view_count": null,
            "disabled": false,
            "_view_module_version": "1.5.0",
            "min": -20,
            "continuous_update": true,
            "readout_format": "d",
            "description_tooltip": null,
            "readout": true,
            "_model_module": "@jupyter-widgets/controls",
            "layout": "IPY_MODEL_dd2dc1f868e14b18b495943e0f472b7a"
          }
        },
        "720f8fe3f6414089b01e50a8b2740457": {
          "model_module": "@jupyter-widgets/output",
          "model_name": "OutputModel",
          "state": {
            "_view_name": "OutputView",
            "msg_id": "",
            "_dom_classes": [],
            "_model_name": "OutputModel",
            "outputs": [
              {
                "output_type": "display_data",
                "metadata": {
                  "tags": []
                },
                "text/plain": "36"
              }
            ],
            "_view_module": "@jupyter-widgets/output",
            "_model_module_version": "1.0.0",
            "_view_count": null,
            "_view_module_version": "1.0.0",
            "layout": "IPY_MODEL_5f33a9dcd7ba413eb00b374b5d1a0679",
            "_model_module": "@jupyter-widgets/output"
          }
        },
        "235e33b5acbc4f85bd6cfe69e0269a67": {
          "model_module": "@jupyter-widgets/controls",
          "model_name": "SliderStyleModel",
          "state": {
            "_view_name": "StyleView",
            "handle_color": null,
            "_model_name": "SliderStyleModel",
            "description_width": "",
            "_view_module": "@jupyter-widgets/base",
            "_model_module_version": "1.5.0",
            "_view_count": null,
            "_view_module_version": "1.2.0",
            "_model_module": "@jupyter-widgets/controls"
          }
        },
        "2f89f2422902494aafe0722b52f4b6a1": {
          "model_module": "@jupyter-widgets/base",
          "model_name": "LayoutModel",
          "state": {
            "_view_name": "LayoutView",
            "grid_template_rows": null,
            "right": null,
            "justify_content": null,
            "_view_module": "@jupyter-widgets/base",
            "overflow": null,
            "_model_module_version": "1.2.0",
            "_view_count": null,
            "flex_flow": null,
            "width": null,
            "min_width": null,
            "border": null,
            "align_items": null,
            "bottom": null,
            "_model_module": "@jupyter-widgets/base",
            "top": null,
            "grid_column": null,
            "overflow_y": null,
            "overflow_x": null,
            "grid_auto_flow": null,
            "grid_area": null,
            "grid_template_columns": null,
            "flex": null,
            "_model_name": "LayoutModel",
            "justify_items": null,
            "grid_row": null,
            "max_height": null,
            "align_content": null,
            "visibility": null,
            "align_self": null,
            "height": null,
            "min_height": null,
            "padding": null,
            "grid_auto_rows": null,
            "grid_gap": null,
            "max_width": null,
            "order": null,
            "_view_module_version": "1.2.0",
            "grid_template_areas": null,
            "object_position": null,
            "object_fit": null,
            "grid_auto_columns": null,
            "margin": null,
            "display": null,
            "left": null
          }
        },
        "6902416220fa4ee58429bbea52953e9a": {
          "model_module": "@jupyter-widgets/controls",
          "model_name": "SliderStyleModel",
          "state": {
            "_view_name": "StyleView",
            "handle_color": null,
            "_model_name": "SliderStyleModel",
            "description_width": "",
            "_view_module": "@jupyter-widgets/base",
            "_model_module_version": "1.5.0",
            "_view_count": null,
            "_view_module_version": "1.2.0",
            "_model_module": "@jupyter-widgets/controls"
          }
        },
        "dd2dc1f868e14b18b495943e0f472b7a": {
          "model_module": "@jupyter-widgets/base",
          "model_name": "LayoutModel",
          "state": {
            "_view_name": "LayoutView",
            "grid_template_rows": null,
            "right": null,
            "justify_content": null,
            "_view_module": "@jupyter-widgets/base",
            "overflow": null,
            "_model_module_version": "1.2.0",
            "_view_count": null,
            "flex_flow": null,
            "width": null,
            "min_width": null,
            "border": null,
            "align_items": null,
            "bottom": null,
            "_model_module": "@jupyter-widgets/base",
            "top": null,
            "grid_column": null,
            "overflow_y": null,
            "overflow_x": null,
            "grid_auto_flow": null,
            "grid_area": null,
            "grid_template_columns": null,
            "flex": null,
            "_model_name": "LayoutModel",
            "justify_items": null,
            "grid_row": null,
            "max_height": null,
            "align_content": null,
            "visibility": null,
            "align_self": null,
            "height": null,
            "min_height": null,
            "padding": null,
            "grid_auto_rows": null,
            "grid_gap": null,
            "max_width": null,
            "order": null,
            "_view_module_version": "1.2.0",
            "grid_template_areas": null,
            "object_position": null,
            "object_fit": null,
            "grid_auto_columns": null,
            "margin": null,
            "display": null,
            "left": null
          }
        },
        "5f33a9dcd7ba413eb00b374b5d1a0679": {
          "model_module": "@jupyter-widgets/base",
          "model_name": "LayoutModel",
          "state": {
            "_view_name": "LayoutView",
            "grid_template_rows": null,
            "right": null,
            "justify_content": null,
            "_view_module": "@jupyter-widgets/base",
            "overflow": null,
            "_model_module_version": "1.2.0",
            "_view_count": null,
            "flex_flow": null,
            "width": null,
            "min_width": null,
            "border": null,
            "align_items": null,
            "bottom": null,
            "_model_module": "@jupyter-widgets/base",
            "top": null,
            "grid_column": null,
            "overflow_y": null,
            "overflow_x": null,
            "grid_auto_flow": null,
            "grid_area": null,
            "grid_template_columns": null,
            "flex": null,
            "_model_name": "LayoutModel",
            "justify_items": null,
            "grid_row": null,
            "max_height": null,
            "align_content": null,
            "visibility": null,
            "align_self": null,
            "height": null,
            "min_height": null,
            "padding": null,
            "grid_auto_rows": null,
            "grid_gap": null,
            "max_width": null,
            "order": null,
            "_view_module_version": "1.2.0",
            "grid_template_areas": null,
            "object_position": null,
            "object_fit": null,
            "grid_auto_columns": null,
            "margin": null,
            "display": null,
            "left": null
          }
        }
      }
    }
  },
  "cells": [
    {
      "cell_type": "markdown",
      "metadata": {
        "id": "view-in-github",
        "colab_type": "text"
      },
      "source": [
        "<a href=\"https://colab.research.google.com/github/mbn75/udemy_python_0_hero_capstone/blob/main/Capstone_Project_Hangman.ipynb\" target=\"_parent\"><img src=\"https://colab.research.google.com/assets/colab-badge.svg\" alt=\"Open In Colab\"/></a>"
      ]
    },
    {
      "cell_type": "markdown",
      "metadata": {
        "id": "vcyRVmMI4UyI"
      },
      "source": [
        "Welcome to the development of a word guessing game... **Word of the Day Hangman**!  Avoid making six wrong guesses of either letters or words and keep your stick figure \"alive\" in order to win.  Don't let your stick figure meet a terrible fate!\r\n",
        "\r\n",
        "![image.png](data:image/png;base64,iVBORw0KGgoAAAANSUhEUgAAAN0AAADzCAYAAAACYhNcAAAPo0lEQVR4Ae2d67niOgxFqSsFUc+phmYoJvOZweAEO46DrMhi8YcQHEneW+uI19x7mbmhAAqoKnBRzUYyFECBGehoAhRQVgDolAUnHQoAHT2AAsoKAJ2y4KRDAaCjB1BAWQGgaxD8dr3Ml8tlnv7um1ftXbcZhCfdKgB0DdbuhWnvuobULHWkANA1mLkXpr3rGlKz1JECQNdg5l6Y9q5rSM1SRwoAXYOZe2HaXHe/z7e/6zxN/98fhveIj/eJ03W+Zd8q3ubrY811voVa77f5ml47Xeett5j322eumPNxP/3N77TrXH+LXNOqxkfsZ/2XyzRP11sSayWs8r5X2U09BLoGOzZhSuIU193/5unVpJf5Mk3zNE0P6P6DMGUAeoPw9/deu7zuMl8fRCZFzPMc6/gPxHW+XqdF/hBjuuahK+cKNd7nvxf4YQ/JH5BcIcr7Xqpg7xHQNXgSm/jwp5eh+aZpvn6MtKSJP5o2Qvds7MVkur/BWpx/EPeE+TkhX/t85/pINa9ypZMrTNj0D8bqU9ww9Yp/ODT3/dqn3QOga/AmQrd4ebZqxPS5GpyL1LFp1/CkIKQQxItfU2Q5Je/PqZirofxcAtYnkXO8LuzxM+4b5s/nYrGZe+F9ZzKYOwV0DZZ0he4Fz3oyRRCWUL3Lzj8fAckBUH4uH+uVqwjI/xUvfTLAvmKsD4T3vQ5v8THQNbgSmyrXyGmYPevu99vjA5XrNbzX+v9+6/+UlIFuLgISwcq9D4zPFQAvxvy/+wjzZQO67vtOjTB6DHQNxuyBKYTbWrf8xC/5AOL1MlUIuvn9ci/7QcrHy9hH5c/3bfLQ6e27wdCTlgJdg/BbMKVhiuvipHi8J1p9vC79MuuZK3w6ufyKYZqvf6vcr+I7TTrNfb/2YvcA6Bq8KcK0ilFaVzr/uFwUujjlChNrVe/7YR/o9Pb93onlI6BrcGezeZI4+XURhNwnf+FL7/gdnsTLy3eu69Y350nN/w97QPeuJfteWHTfHxsyeQLoGmzJw/QZoLQung8fNLx/BZICF97jSUD3fl+ZfoXx+Kj/+YV8/iVmD+iSWhT2/emGvTNA1+BJhCb7FzuJU1z3+qv+/9coj08t4y9S4r0QdHP4fi/+UuQJ2uKXI48PbhoBj+/Nsh/ChGH9/MXM+tNL1X0nRhg9BLoGY4owrWJsrnv8dvL9c673bxbjlGkE4fXl+fL9WwQg+wfifnv/jGsBSKxhGeu1vaPQhQBK+37VavgA6Aybc7y0CM8a4CRiBaBkJYfCCgCdsKAmwu0AKk7CrS+yTezFYRFA59DU9yehhZeJyY+XF68uPWphcE9AZ9AUiZLi+8rHp5fhXzbEn5vFD1fCF/QQJyF1cwyga5ZsnAvut/BrlPRDm/CVRPj3b+EfzC6+tBhnUw4qBToHJrKFsRQAurH8oloHCgCdAxPZwlgKAN1YflGtAwWAzoGJbGEsBYBuLL+o1oECQOfARLYwlgJAN5ZfVOtAgZ+GLv23Zg68ZAuDKPCz0KXAcZz7DyTZPjcIX9kyge71X+Gy3WT8Yfj0J9vRA5wEOqBL/l8Kn41tGfYB+MqWCHRANyx04Q/CiLcxqxZQ2vJfcGrbP3EFWkE9BNAlk05dfRI2KZD7Y9QUwMhioAM6I61YLwPo6hqZXuHFQNMiCxfnxTMmHZNOGI1+4YCun7Yqkb0YqCKWkSRePGPSMemMIFUvA+jqGple4cVA0yILF+fFMyYdk04YjX7hgK6ftiqRvRioIpaRJF48Y9Ix6YwgVS8D6OoamV7hxUDTIgsX58UzJh2TThiNfuGArp+2KpG9GKgilpEkXjxj0jHpjCBVLwPo6hqZXuHFQNMiCxfnxTMmHZNOGI1+4YCun7Yqkb0YqCKWkSRePGPSMemMIFUvA+jqGple4cVA0yILF+fFMyYdk04YjX7hgK6ftiqRvRioIpaRJF48Y9Ix6YwgVS8D6OoamV7hxUDTIgsX58UzJh2TThiNfuGArp+2KpG9GKgilpEkXjxj0jHpjCBVLwPo6hqZXuHFQNMiCxfnxTMmHZNOGI1+4YCun7Yqkb0YqCKWkSRePGPSMemMIFUvA+jqGple4cVA0yILF+fFMyYdk04YjX7hgK6ftiqRvRioIpaRJF48Y9Ix6YwgVS8D6OoamV7hxUDTIgsX58UzJh2TThiNfuGArp+2KpG9GKgilpEkXjxj0jHpjCBVLwPo6hqZXuHFQNMiCxfnxTMmHZNOGI1+4YCun7Yqkb0YqCKWkSRePGPSMemMIFUvA+jqGple4cVA0yILF+fFMyYdk04YjX7hgK6ftiqRvRioIpaRJF48Y9Ix6YwgVS8D6OoamV7hxUDTIgsX58UzJh2TThiNfuGArp+2KpG9GKgilpEkXjxj0jHpjCBVLwPo6hqZXuHFQNMiCxfnxTMmHZNOGI1+4YCun7Yqkb0YqCKWkSRePGPSMemMILWvjBS8fVfYWwV0QGevK51XBHRA57zF7W0P6IDOXlc6rwjogM55i9vbHtABnb2udF4R0AHdEC2efmqZOx5iE88igQ7oTPdrDrCtc6Y3A3SXeW3eCIb9So1rb1ofW9aJScekM9efrYCV1pvb2LMgoAM6U71ZAuib86Y2OM8z0AGdmZ6sgVUqtHZdeN7SzVY1isrkjFJMT6qVAjk/4rnV0uLDuD53X7zohCeAjkl3QtstU+YgieeWK+uP4nW5+/rVOiuADuh0Oq2QJQdHPFe4pHo6Xp+7r16ssADogE6hzcopcmCEc9/eesX9tq5w/fe7k6jihBg5U04o4+dT9vQhFzucO/t2fgUnKZAz5KRSfjZtzgNJKHrHP2oc0PHy8mjvfH1dDoqvg64CaORYpaw+BDqgqzZJrwUaQGjkaNUH6ICutWdE1mvCoJlrjzhAB3R7+kR8jSYImrn2CAV0QLenT8TXaIKgmWuPUEAHdHv6RHyNJgiaufYIBXRAt6dPxNdogqCZa49QQAd0e/pEfI0mCJq59ggFdEC3p0/E12iCoJlrj1BAB3R7+kR8jSYImrn2CAV0QLenT7qs0YBBI0erOEAHdK09I7ZeAwiNHK2CAB3QtfaM2PocEOGc1K13/KN1yu3waAUnXZcz5KRSfjZtzgOgc9wOOcMdb9fs1nI+SIDXK66EkEw6Xl5K9NHhGCU4vgWvFPdwoYIXAh3QCbbTsVAlQI6CV4p3rDr5q4AO6OS76kDEEigt4EnEOFB68yVAB3TNTdPjgi1g4nOlvPH5rfvStWecBzqgO6Pvijm3wDn6XDHZSU8AHdCd1HrltEfhyl1XznLeM0AHdOd130bmHEAt5zZCn/4U0AHd6U24VUALaGHtCLcxquygZM7MDmkIKaRAzq/0nFAalTBAx6RTaTSSvBUAOqB7d8MgR+mEs3a8R0KgA7qPPrHWyKPV8yHo6gTQAd2iJUZrcIv1LgTNPAA6oFu0hcUmHq2mhaCZB0AHdIu2GK3BrdW7ELPwAOiA7qM1rDVyrZ6PDRg/AXRAZ7xFl+XlAFyusP8I6IDOfpcmFQJdIsZohx7MG01ziXo9+MakY9JJsKAWA+jUpJZP5ME8eVXsR/TgG5OOSWeftKRCoEvEGO3Qg3mjaS5RrwffmHRMOgkW1GIAnZrU8ok8mCeviv2IHnxj0jHp7JOWVAh0iRijHXowbzTNJer14BuTjkknwYJaDKBTk1o+kQfz5FWxH9GDb0w6Jp190pIKgS4RY7RDD+aNprlEvR58Y9Ix6SRYUIsBdGpSyyfyYJ68KvYjevCNSceks09aUiHQJWKMdujBvNE0l6jXg29MOiadBAtqMYBOTWr5RB7Mk1fFfkQPvjHpmHT2SUsqBLpEjNEOPZg3muYS9XrwjUnHpJNgQS0G0KlJLZ/Ig3nyqtiP6ME3Jh2Tzj5pSYVAl4gx2qEH80bTXKJeD74x6Zh0EiyoxQA6NanlE3kwT14V+xE9+MakY9LZJy2pEOgSMUY79GDeaJpL1OvBNyYdk06CBbUYQKcmtXwiD+bJq2I/ogffmHRMOvukJRUCXSLGaIcezBtNc4l6PfjGpGPSSbCgFgPo1KSWT+TBPHlV7Ef04BuTjklnn7SkQqBLxBjt0IN5o2kuUa8H35h0TDoJFtRiAJ2a1PKJPJgnr4r9iB58Y9Ix6eyTllQIdIkYox16MG80zSXq9eAbk45JJ8GCWgygU5NaPpEH8+RVsR/Rg29MOiadfdKSCoEuEWO0Qw/mjaa5RL0efGPSMekkWFCLAXRqUssn8mCevCr2I3rwjUnHpLNPWlIh0CVijHbowbzRNJeo14NvTDomnQQLajGATk1q+UQezJNXZYyIqXdjVLyskknHpFt2BI+6KwB0QNe9yaQTMOmkFVWKlxoXj5VSk+YLBaJX6f0X4U65lEnHpDul8Y4kTUFLj0Os9eMj8bWuATqg0+q1r/OkYNWOv07WMQDQAV3H9pILXYIsZNh6Tq4CuUhAB3Ry3dQpUg2q2vOdyjocFuiA7nDzaF24B6o9a7TqreUBOqCr9cipz7fA1LL2zE0BHdCd2X+buVshKq0P5y3dbFWjqEzOIMX0pKookPMnntu6NK5Z329do/0c0DHptHtuV741NPHxnovj2vX9nms11gAd0Gn0WVOONSzxcUuQeM36viVGr7VAB3S9eutQ3DUk8XFrsHhd7r41lvR6oAM66Z76Kl4OknDuyE0y1pH8pWuO7aYUbaDzOUMGKt9lqTlPjgIXBeoRM8Y+eg90TLqjvSN6XU84esY+IgLQAd2RvhG9pgRFOC9x6x2/tUaZXbVmNbA+Z4SBsn6yhJwXUsBFQUs5pPPEfFv3QMek2+qP7s+VYOiRWDPXVv1AB3Rb/dH1uTMgOCPnWkSgA7p1T6g9PguAs/JGYYEO6GIvqN6f2fil3OG8xk0ni8ZOGnPkhG8MwfKDCuS012r4WPKZNQAdky72ocp9qdm1oQubLdXSWwigA7rePbaIf1ajL4pIHpxRD9ABXdKCfQ/PaPDajko1hfO9bv0i96pYKG5ObKHQhMkokNO7Z2NnSiie0q4N6Jh0xWaUfEK7sVtr16wP6ICutT+b12s2dHNxyQVadQId0CVtJ3+o1cgSlWvVCnRAJ9GvxRhajVwsoPGJXL2NIarLgQ7oqk3yzQKNJv6mvty1ac255789B3RA920PVa/v3cTVAowtADqgM9aS/ssBOqDz3+XGdtgMXfpSgeNL8fd7VrQx1m+UE37z2aKClUaijjbYWzxmbX8FgC55eekV5v5tRIYWBYAO6Fr6hbUCCjRBF/J5nQZe9yXQI4QQVqAZOuH8hEOBn1MA6H7OcjZ8tgJAd7YD5P85BYDu5yxnw2cr8A/H2uysdbzftwAAAABJRU5ErkJggg==)"
      ]
    },
    {
      "cell_type": "markdown",
      "metadata": {
        "id": "gcViQ37O5XX4"
      },
      "source": [
        "Objectives:\r\n",
        "\r\n",
        "\r\n",
        "*   Use Web scrapping to select the \"word of the day\" from an online dictionary website\r\n",
        "*   Using functions or class objects and user interface for playing the game.  Play ends when player guess the word correctly, guesses all the letters correctly or play makes six wrong guesses in the game.\r\n",
        "*   Create a graphical interface to display correct and incorrect guesses and the stick figure\r\n",
        "\r\n",
        "\r\n",
        "\r\n"
      ]
    },
    {
      "cell_type": "markdown",
      "metadata": {
        "id": "6xemWSSXvtmY"
      },
      "source": [
        "# **Library Imports**"
      ]
    },
    {
      "cell_type": "code",
      "metadata": {
        "id": "dNB5nbV78mnV"
      },
      "source": [
        "#Import libraries\r\n",
        "\r\n",
        "#web scrapping\r\n",
        "import requests, bs4, lxml\r\n",
        "\r\n",
        "#regular expressions\r\n",
        "import re\r\n",
        "\r\n",
        "#random integer\r\n",
        "import random\r\n",
        "\r\n",
        "#Import pillow and operating system libraries\r\n",
        "from PIL import Image\r\n",
        "import os\r\n",
        "\r\n",
        "#clear output\r\n",
        "from google.colab import output\r\n",
        "\r\n",
        "\r\n",
        "\r\n",
        "from ipywidgets import interact, interactive, fixed\r\n",
        "import ipywidgets as widgets\r\n",
        "\r\n",
        "from IPython.display import display"
      ],
      "execution_count": 27,
      "outputs": []
    },
    {
      "cell_type": "markdown",
      "metadata": {
        "id": "0sEXUPsitma5"
      },
      "source": [
        "# **Site requests and soup making**"
      ]
    },
    {
      "cell_type": "code",
      "metadata": {
        "id": "Vnmv-In6A_Wg"
      },
      "source": [
        "#Make site requests\r\n",
        "dictionary_dot_com = requests.get('https://www.dictionary.com/e/word-of-the-day/')\r\n",
        "#merriam_webster = requests.get('https://www.merriam-webster.com/word-of-the-day')\r\n",
        "#collins = requests.get('https://www.collinsdictionary.com/dictionary/english')\r\n",
        "\r\n",
        "#Make soups\r\n",
        "dict_soup = bs4.BeautifulSoup(dictionary_dot_com.text, 'lxml') #Dictionary.com soup\r\n",
        "#m_w_soup = bs4.BeautifulSoup(merriam_webster.text, 'lxml') #Merriam-Webster.com soup\r\n",
        "#coll_soup = bs4.BeautifulSoup(collins.text, 'lxml') #CollinsDistionary.com soup"
      ],
      "execution_count": 28,
      "outputs": []
    },
    {
      "cell_type": "markdown",
      "metadata": {
        "id": "z3kMy821vd47"
      },
      "source": [
        "# **Getting word, word type, and definition from Dictionary.com soup**"
      ]
    },
    {
      "cell_type": "code",
      "metadata": {
        "id": "Sw0frNQdDXc5"
      },
      "source": [
        "#Get word.  Distionary.com word pattern is: \"Word of the Day - <the_word> | Dictionary.com\".  \r\n",
        "#This can be found in the soup using the 'title' tag at the beginning of the list object\r\n",
        "\r\n",
        "word_pattern = '([^Word of the Day - ](\\S+))' #This regular expression picks out <the_word> from the string by excluding phrase \"Word of the Day - \" using the ^ (hat) operator\r\n",
        "\r\n",
        "text = dict_soup.select('title')[0].getText()\r\n",
        "word_spelling = re.search(word_pattern, text).group()\r\n",
        "#word_spelling"
      ],
      "execution_count": 29,
      "outputs": []
    },
    {
      "cell_type": "code",
      "metadata": {
        "id": "8vZcHxrvEImF"
      },
      "source": [
        "#Get word type.  Cleaning up the string is not as critical since it will not affect game play.\r\n",
        "type_pattern = '\\S+' #straight forward regular expression.  Using \"S\" and \"+\" to get alpha no whitespace\r\n",
        "\r\n",
        "text = dict_soup.select('p')[2].getText()\r\n",
        "word_type = re.search(type_pattern, text).group()\r\n",
        "#word_type"
      ],
      "execution_count": 30,
      "outputs": []
    },
    {
      "cell_type": "code",
      "metadata": {
        "id": "1ED6TJa7Fje3"
      },
      "source": [
        "#Get definition. Cleaning up the string is not as critical since it will not affect game play.\r\n",
        "word_defition = dict_soup.select('p')[3].getText() #Just get the text without use of regular expression\r\n",
        "#word_defition"
      ],
      "execution_count": 31,
      "outputs": []
    },
    {
      "cell_type": "code",
      "metadata": {
        "id": "-wpkqwFp7rRl"
      },
      "source": [
        "#Create a dictionary for Dictionary.com word of the day\r\n",
        "dict_dict = {'spelling':word_spelling, 'type':word_type, 'definition':word_defition}\r\n",
        "#dict_dict"
      ],
      "execution_count": 32,
      "outputs": []
    },
    {
      "cell_type": "markdown",
      "metadata": {
        "id": "HvNFsjskwEaS"
      },
      "source": [
        "# **Not Used: Getting word, word type, and defintion from Merriam-Webster.com soup**"
      ]
    },
    {
      "cell_type": "code",
      "metadata": {
        "id": "_KgBfnss4Ved"
      },
      "source": [
        "#Upon further testing m_w_dictionary site is more difficult to scrape.  Will need to troubleshoot later if I still have desire."
      ],
      "execution_count": null,
      "outputs": []
    },
    {
      "cell_type": "code",
      "metadata": {
        "id": "_017DV-xwl-9"
      },
      "source": [
        "#merriam-webster.com word pattern is: \"Word of the Day: <the_word> | Merriam-Webster\".  This can be found in the soup using the 'title' tag at the beginning of the list object\r\n",
        "\r\n",
        "#word_pattern = '([^Word of the Day: ](\\S+))' #This regular expression picks out <the_word> from the string by excluding phrase \"Word of the Day: \" using the ^ (hat) operator\r\n",
        "#text = m_w_soup.select('title')[0].getText()\r\n",
        "#word = re.search(word_pattern, text).group()\r\n",
        "#word"
      ],
      "execution_count": null,
      "outputs": []
    },
    {
      "cell_type": "code",
      "metadata": {
        "id": "61B7Spspx4qY",
        "colab": {
          "base_uri": "https://localhost:8080/",
          "height": 54
        },
        "outputId": "910e2c34-73bf-4b0b-a6bb-051e59dafa8b"
      },
      "source": [
        "#Finding the word in the list\r\n",
        "\"\"\"\r\n",
        "for i in range(len(m_w_soup.select('span'))):\r\n",
        "  print(str(i) + \" \" + m_w_soup.select('span')[i].getText())\r\n",
        "\"\"\"\r\n",
        "#word_type = m_w_soup.select('span')[14].getText()\r\n",
        "#word_type"
      ],
      "execution_count": null,
      "outputs": [
        {
          "output_type": "execute_result",
          "data": {
            "application/vnd.google.colaboratory.intrinsic+json": {
              "type": "string"
            },
            "text/plain": [
              "'\\nfor i in range(len(m_w_soup.select(\\'span\\'))):\\n  print(str(i) + \" \" + m_w_soup.select(\\'span\\')[i].getText())\\n'"
            ]
          },
          "metadata": {
            "tags": []
          },
          "execution_count": 85
        }
      ]
    },
    {
      "cell_type": "code",
      "metadata": {
        "id": "QAb4h_Gl0cM0"
      },
      "source": [
        "#text = m_w_soup.select('p')[0].getText()\r\n",
        "#word_def = re.search('[^: ](\\S+)', text).group()\r\n",
        "#word_def"
      ],
      "execution_count": null,
      "outputs": []
    },
    {
      "cell_type": "code",
      "metadata": {
        "id": "IyXBwaA-EGoP"
      },
      "source": [
        "#Create a dictionary for Merriam-Webster.com word of the day\r\n",
        "#m_w_dict = {'word':word, 'type':word_type, 'definition':word_def}\r\n",
        "#m_w_dict"
      ],
      "execution_count": null,
      "outputs": []
    },
    {
      "cell_type": "markdown",
      "metadata": {
        "id": "MS7Q_Lhb-lkq"
      },
      "source": [
        "# **NOT USED: Randomly select a dictionary word of the day for use for hangman**"
      ]
    },
    {
      "cell_type": "code",
      "metadata": {
        "id": "8YA_crai-uCH",
        "colab": {
          "base_uri": "https://localhost:8080/",
          "height": 54
        },
        "outputId": "6ce8a6bd-097d-4366-ba4a-5dea0a1bb539"
      },
      "source": [
        "#Not needed.  Only using Dictionary.com scrape\r\n",
        "'''\r\n",
        "if random.randint(0,1) == 1:\r\n",
        "  hangman_dict = dict_dict\r\n",
        "else:\r\n",
        "  hangman_dict = m_w_dict\r\n",
        "#hangman_dict\r\n",
        "'''"
      ],
      "execution_count": null,
      "outputs": [
        {
          "output_type": "execute_result",
          "data": {
            "application/vnd.google.colaboratory.intrinsic+json": {
              "type": "string"
            },
            "text/plain": [
              "'\\nif random.randint(0,1) == 1:\\n  hangman_dict = dict_dict\\nelse:\\n  hangman_dict = m_w_dict\\n#hangman_dict\\n'"
            ]
          },
          "metadata": {
            "tags": []
          },
          "execution_count": 88
        }
      ]
    },
    {
      "cell_type": "markdown",
      "metadata": {
        "id": "x-ygrE-L6TwO"
      },
      "source": [
        "# **Hangman word class**"
      ]
    },
    {
      "cell_type": "code",
      "metadata": {
        "id": "8Q6nmw8byXNu"
      },
      "source": [
        "class HangmanWord():\r\n",
        "  '''\r\n",
        "  HangmanWord class \r\n",
        "  - attributes: spelling, word_type, definition all of string type\r\n",
        "  - methods: self, guess\r\n",
        "\r\n",
        "  '''\r\n",
        "  \r\n",
        "  def __init__(self, spelling='', word_type='', definition=''):\r\n",
        "    #Class Attributes\r\n",
        "    self.spelling = spelling\r\n",
        "    self.word_type = word_type\r\n",
        "    self.definition = definition\r\n",
        "    self.word_list = [char for char in spelling] #list comprehension\r\n",
        "    self.guessing_list = ['-' if x in ['-'] else ' ' for x in spelling] #list comprehension\r\n",
        "    self.alpha_set = set([chr(x) for x in range(ord('a'),ord('z')+1)]) #list comprehension cast to set()\r\n",
        "    self.guessed_letter = set()\r\n",
        "\r\n",
        "  #self.print method\r\n",
        "  def __str__(self):\r\n",
        "    return f\"The Word of the Day is: '{self.spelling}'\\nIt is a {self.word_type}.\\nThe definition is: '{self.definition}''\"\r\n",
        "\r\n",
        "  #self.lenth method\r\n",
        "  def __len__(self):\r\n",
        "    return len(self.spelling)\r\n",
        "\r\n",
        "  #guessing method\r\n",
        "  def guess(self,letter=''):\r\n",
        "    try:\r\n",
        "      if len(letter) == 1 or len(letter) == len(self.spelling): #Only accepts single or full word guesses\r\n",
        "        start = 0 #Starting position for index loop.  Needed to find all instances of same letter in a word\r\n",
        "        for char in self.word_list:\r\n",
        "          if letter == char:\r\n",
        "            self.guessing_list[self.word_list.index(char, start)] = letter\r\n",
        "          elif letter == self.spelling:\r\n",
        "            print('You guesses correctly.  You win!')\r\n",
        "            self.guessing_list = self.word_list\r\n",
        "            break\r\n",
        "          else:\r\n",
        "            pass\r\n",
        "          start = start + 1\r\n",
        "        self.alpha_set.discard(letter.lower())\r\n",
        "        self.guessed_letter.add(letter.lower())\r\n",
        "        return (letter.lower(), letter.lower() in self.spelling.lower())\r\n",
        "      else:\r\n",
        "        return 'Single letter or whole word guessess only. Partial word guesses not allowed.'\r\n",
        "    except:\r\n",
        "      return 'This method only accepts string arguements.  Please enter your argument as a string.'"
      ],
      "execution_count": 33,
      "outputs": []
    },
    {
      "cell_type": "markdown",
      "metadata": {
        "id": "5fs0dlG-yboK"
      },
      "source": [
        "# **Game visual display function**"
      ]
    },
    {
      "cell_type": "code",
      "metadata": {
        "id": "fuvqBkK2ETaM"
      },
      "source": [
        "#Game play display function\r\n",
        "def hangman_display(num=0):\r\n",
        "  '''\r\n",
        "  The hangman display function accepts one arguement, integer in the range [0:6]\r\n",
        "  If values in range then uses if-then logic to display hangman\r\n",
        "  If argument not in range then prints a statement about error\r\n",
        "  '''\r\n",
        "  #make sure the current working directory is set\r\n",
        "  os.chdir('/content/drive/MyDrive/Colab Notebooks/udemy_python_0_hero_capstone')\r\n",
        "  #print(os.getcwd())\r\n",
        "  #output.clear()\r\n",
        "  try:\r\n",
        "    if num == 0:\r\n",
        "      print('No wrong guesses')\r\n",
        "      print('\\nYour word:')\r\n",
        "      print(game_word.guessing_list)\r\n",
        "      print(\"\\nYou've used the following guesses:\")\r\n",
        "      print(game_word.guessed_letter)\r\n",
        "      print(\"\\nThese are the letters you've yet to try.\")\r\n",
        "      print(game_word.alpha_set)\r\n",
        "      hangman_pic = Image.open('0_zero.PNG') #Mounted Google Drive to colab notebook\r\n",
        "    elif num == 1:\r\n",
        "      print('One wrong guess')\r\n",
        "      print('\\nYour word:')\r\n",
        "      print(game_word.guessing_list)\r\n",
        "      print(\"\\nYou've used the following guesses:\")\r\n",
        "      print(game_word.guessed_letter)\r\n",
        "      print(\"\\nThese are the letters you've yet to try.\")\r\n",
        "      print(game_word.alpha_set)\r\n",
        "      hangman_pic = Image.open('1_one.PNG')\r\n",
        "    elif num == 2:\r\n",
        "      print('Two wrong guesses')\r\n",
        "      print('\\nYour word:')\r\n",
        "      print(game_word.guessing_list)\r\n",
        "      print(\"\\nYou've used the following guesses:\")\r\n",
        "      print(game_word.guessed_letter)\r\n",
        "      print(\"\\nThese are the letters you've yet to try.\")\r\n",
        "      print(game_word.alpha_set)\r\n",
        "      hangman_pic = Image.open('2_two.PNG')\r\n",
        "    elif num == 3:\r\n",
        "      print('Three wrong guesses')\r\n",
        "      print('\\nYour word:')\r\n",
        "      print(game_word.guessing_list)\r\n",
        "      print(\"\\nYou've used the following guesses:\")\r\n",
        "      print(game_word.guessed_letter)\r\n",
        "      print(\"\\nThese are the letters you've yet to try.\")\r\n",
        "      print(game_word.alpha_set)\r\n",
        "      hangman_pic = Image.open('3_three.PNG')\r\n",
        "    elif num == 4:\r\n",
        "      print('Four wrong guesses')\r\n",
        "      print('\\nYour word:')\r\n",
        "      print(game_word.guessing_list)\r\n",
        "      print(\"\\nYou've used the following guesses:\")\r\n",
        "      print(game_word.guessed_letter)\r\n",
        "      print(\"\\nThese are the letters you've yet to try.\")\r\n",
        "      print(game_word.alpha_set)\r\n",
        "      hangman_pic = Image.open('4_four.PNG')\r\n",
        "    elif num == 5:\r\n",
        "      print('Five wrong guesses')\r\n",
        "      print('\\nYour word:')\r\n",
        "      print(game_word.guessing_list)\r\n",
        "      print(\"\\nYou've used the following guesses:\")\r\n",
        "      print(game_word.guessed_letter)\r\n",
        "      print(\"\\nThese are the letters you've yet to try.\")\r\n",
        "      print(game_word.alpha_set)\r\n",
        "      hangman_pic = Image.open('5_five.PNG')\r\n",
        "    elif num == 6:\r\n",
        "      print('Six wrong guesses. Game Over!')\r\n",
        "      print('\\n')\r\n",
        "      print(game_word)\r\n",
        "      hangman_pic = Image.open('6_six.PNG')\r\n",
        "    else:\r\n",
        "      pass\r\n",
        "    return hangman_pic\r\n",
        "  except:\r\n",
        "    print('Error! This function only accepts integer values in the range [0:6].')"
      ],
      "execution_count": 34,
      "outputs": []
    },
    {
      "cell_type": "code",
      "metadata": {
        "colab": {
          "base_uri": "https://localhost:8080/",
          "height": 568
        },
        "id": "v-Zq2BiByUyQ",
        "outputId": "30b59db2-8c91-4864-802e-652396d57c78"
      },
      "source": [
        "#Game display function testing\r\n",
        "game_word = HangmanWord(spelling=dict_dict['spelling']\r\n",
        "                        ,word_type=dict_dict['type']\r\n",
        "                        ,definition=dict_dict['definition'])\r\n",
        "hangman_display()"
      ],
      "execution_count": 36,
      "outputs": [
        {
          "output_type": "stream",
          "text": [
            "No wrong guesses\n",
            "\n",
            "Your word:\n",
            "[' ', ' ', ' ', ' ', ' ']\n",
            "\n",
            "You've used the following guesses:\n",
            "set()\n",
            "\n",
            "These are the letters you've yet to try.\n",
            "{'p', 'z', 'v', 'j', 'c', 'w', 'x', 'a', 'y', 'n', 'f', 'k', 'o', 'g', 'u', 'b', 'l', 'r', 't', 'i', 'e', 'q', 'm', 'h', 's', 'd'}\n"
          ],
          "name": "stdout"
        },
        {
          "output_type": "execute_result",
          "data": {
            "image/png": "[encoded data removed]",
            "text/plain": [
              "<PIL.PngImagePlugin.PngImageFile image mode=RGBA size=349x369 at 0x7F169711AA20>"
            ]
          },
          "metadata": {
            "tags": []
          },
          "execution_count": 36
        }
      ]
    },
    {
      "cell_type": "markdown",
      "metadata": {
        "id": "oKHOk35MW1B9"
      },
      "source": [
        "# **Game Play Logic**"
      ]
    },
    {
      "cell_type": "code",
      "metadata": {
        "colab": {
          "base_uri": "https://localhost:8080/"
        },
        "id": "SLKEetlv8-WO",
        "outputId": "ed14b588-774f-4262-abfa-ae30cc12bfe1"
      },
      "source": [
        "guess_count = 0\r\n",
        "game_word = HangmanWord(spelling=dict_dict['spelling']\r\n",
        "                        ,word_type=dict_dict['type']\r\n",
        "                        ,definition=dict_dict['definition'])\r\n",
        "\r\n",
        "while guess_count < 6:\r\n",
        "\r\n",
        "  if len(game_word.guessed_letter) == 0:\r\n",
        "    print(\"Welcome to Word of the Day Hangman!\")\r\n",
        "    print(f\"The word has {len(game_word)} letters.\\n\")\r\n",
        "  if game_word.guessing_list == game_word.word_list:\r\n",
        "    output.clear()\r\n",
        "    print('You win!')\r\n",
        "    print(game_word)\r\n",
        "    hangman_display(guess_count)\r\n",
        "    break\r\n",
        "  test = game_word.guess(input('make a guess: '))\r\n",
        "  if not test[1]:\r\n",
        "    guess_count = guess_count + 1\r\n",
        "    output.clear()\r\n",
        "    print('Sorry! Wrong guess. Try again.')\r\n",
        "  else:\r\n",
        "    output.clear()\r\n",
        "    print('Correct! Good guess')\r\n",
        "  hangman_display(guess_count)"
      ],
      "execution_count": 37,
      "outputs": [
        {
          "output_type": "stream",
          "text": [
            "You win!\n",
            "The Word of the Day is: 'istic'\n",
            "It is a adjective.\n",
            "The definition is: 'indefinite; indeterminate.''\n",
            "Three wrong guesses\n",
            "\n",
            "Your word:\n",
            "['i', 's', 't', 'i', 'c']\n",
            "\n",
            "You've used the following guesses:\n",
            "{'e', 'a', 'l', 's', 'c', 'i', 't'}\n",
            "\n",
            "These are the letters you've yet to try.\n",
            "{'p', 'z', 'v', 'j', 'w', 'x', 'y', 'n', 'f', 'k', 'o', 'g', 'u', 'b', 'r', 'q', 'm', 'h', 'd'}\n"
          ],
          "name": "stdout"
        }
      ]
    },
    {
      "cell_type": "code",
      "metadata": {
        "id": "9iFuogzf6CHj"
      },
      "source": [
        ""
      ],
      "execution_count": 6,
      "outputs": []
    },
    {
      "cell_type": "code",
      "metadata": {
        "id": "9wYxf0GE7Ks2"
      },
      "source": [
        "#practice function\r\n",
        "def basic_slider(x):\r\n",
        "  return x"
      ],
      "execution_count": 12,
      "outputs": []
    },
    {
      "cell_type": "code",
      "metadata": {
        "id": "Qb6AAHyu7fnF",
        "outputId": "34b1bb4e-cc25-4639-dd92-8cbb8887394f",
        "colab": {
          "base_uri": "https://localhost:8080/",
          "height": 86,
          "referenced_widgets": [
            "b3cfd10352114331b78d460f0fd6d9f0",
            "84916dc4e72f4259a15e481718f248f8",
            "7bdb88761265435db7f260874e98b198",
            "cb405cab39aa4b76b0146532e0bdf323",
            "5ebe41b982a742c68c85246d949f44c4",
            "f32153e25338412fad560757e0380a57",
            "316c30c72edf423a9d234fc11cd83cd4"
          ]
        }
      },
      "source": [
        "interact(basic_slider,x='')"
      ],
      "execution_count": 15,
      "outputs": [
        {
          "output_type": "display_data",
          "data": {
            "application/vnd.jupyter.widget-view+json": {
              "model_id": "b3cfd10352114331b78d460f0fd6d9f0",
              "version_minor": 0,
              "version_major": 2
            },
            "text/plain": [
              "interactive(children=(Text(value='', description='x'), Output()), _dom_classes=('widget-interact',))"
            ]
          },
          "metadata": {
            "tags": []
          }
        },
        {
          "output_type": "execute_result",
          "data": {
            "text/plain": [
              "<function __main__.basic_slider>"
            ]
          },
          "metadata": {
            "tags": []
          },
          "execution_count": 15
        }
      ]
    },
    {
      "cell_type": "code",
      "metadata": {
        "id": "qfCECv2F7oAT",
        "outputId": "4ad4e27a-3d70-4461-be41-7b10fc5bded2",
        "colab": {
          "base_uri": "https://localhost:8080/",
          "height": 67,
          "referenced_widgets": [
            "c31703a330cf48bf89714b1d2d4fd8c7",
            "ce2f5143d6794a4892aad5e177908365",
            "15ad178cec7e4f4da47ef58cc98fcf51",
            "c63f0548544a4a12bb7585b4def1adbe",
            "b1dfcf1a05374813afbfbd250bc07670",
            "7a5ffff633714773a0f39bd7ce8dd9a4",
            "4d971d93153f404a82e61e3af1a1f493"
          ]
        }
      },
      "source": [
        "@interact(x=True,y=fixed(10))\r\n",
        "def g(x,y):\r\n",
        "  return(x,y)"
      ],
      "execution_count": 19,
      "outputs": [
        {
          "output_type": "display_data",
          "data": {
            "application/vnd.jupyter.widget-view+json": {
              "model_id": "c31703a330cf48bf89714b1d2d4fd8c7",
              "version_minor": 0,
              "version_major": 2
            },
            "text/plain": [
              "interactive(children=(Checkbox(value=True, description='x'), Output()), _dom_classes=('widget-interact',))"
            ]
          },
          "metadata": {
            "tags": []
          }
        }
      ]
    },
    {
      "cell_type": "code",
      "metadata": {
        "id": "tG-eWykZ8d1d"
      },
      "source": [
        "\r\n",
        "\r\n",
        "def f(a,b):\r\n",
        "  display(a+b)\r\n",
        "  return a+b"
      ],
      "execution_count": 22,
      "outputs": []
    },
    {
      "cell_type": "code",
      "metadata": {
        "id": "RIMbEF399_X6"
      },
      "source": [
        "w = interactive(f,a=10,b=20)"
      ],
      "execution_count": 23,
      "outputs": []
    },
    {
      "cell_type": "code",
      "metadata": {
        "id": "MqA_ZOxN-XNm",
        "outputId": "47748f87-26a3-4ab2-a0d3-6adabee8fdf7",
        "colab": {
          "base_uri": "https://localhost:8080/"
        }
      },
      "source": [
        "type(w)"
      ],
      "execution_count": 24,
      "outputs": [
        {
          "output_type": "execute_result",
          "data": {
            "text/plain": [
              "ipywidgets.widgets.interaction.interactive"
            ]
          },
          "metadata": {
            "tags": []
          },
          "execution_count": 24
        }
      ]
    },
    {
      "cell_type": "code",
      "metadata": {
        "id": "3Qr5tGxZ-Yr6",
        "outputId": "a1d20607-aaf3-4261-802a-094498ebdb3c",
        "colab": {
          "base_uri": "https://localhost:8080/"
        }
      },
      "source": [
        "w.children"
      ],
      "execution_count": 25,
      "outputs": [
        {
          "output_type": "execute_result",
          "data": {
            "text/plain": [
              "(IntSlider(value=10, description='a', max=30, min=-10),\n",
              " IntSlider(value=20, description='b', max=60, min=-20),\n",
              " Output())"
            ]
          },
          "metadata": {
            "tags": []
          },
          "execution_count": 25
        }
      ]
    },
    {
      "cell_type": "code",
      "metadata": {
        "id": "Gt-9HuzI-acn",
        "outputId": "5aec3220-ec92-4d19-8bdd-9566b1ad2c8d",
        "colab": {
          "base_uri": "https://localhost:8080/",
          "height": 99,
          "referenced_widgets": [
            "2673bedc77d54fdcb8f2bf5e1990582c",
            "1a5144cc3a784b0988bf2db4383290cf",
            "010da587824140b88769f652fdcb439f",
            "cef305ee75734bbd9c9fee0933703870",
            "720f8fe3f6414089b01e50a8b2740457",
            "235e33b5acbc4f85bd6cfe69e0269a67",
            "2f89f2422902494aafe0722b52f4b6a1",
            "6902416220fa4ee58429bbea52953e9a",
            "dd2dc1f868e14b18b495943e0f472b7a",
            "5f33a9dcd7ba413eb00b374b5d1a0679"
          ]
        }
      },
      "source": [
        "display(w)"
      ],
      "execution_count": 26,
      "outputs": [
        {
          "output_type": "display_data",
          "data": {
            "application/vnd.jupyter.widget-view+json": {
              "model_id": "2673bedc77d54fdcb8f2bf5e1990582c",
              "version_minor": 0,
              "version_major": 2
            },
            "text/plain": [
              "interactive(children=(IntSlider(value=10, description='a', max=30, min=-10), IntSlider(value=20, description='…"
            ]
          },
          "metadata": {
            "tags": []
          }
        }
      ]
    },
    {
      "cell_type": "code",
      "metadata": {
        "id": "Y6YMDSWD-dfc"
      },
      "source": [
        ""
      ],
      "execution_count": null,
      "outputs": []
    }
  ]
}